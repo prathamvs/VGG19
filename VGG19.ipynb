{
 "cells": [
  {
   "cell_type": "code",
   "execution_count": 3,
   "id": "42e85145",
   "metadata": {},
   "outputs": [],
   "source": [
    "import pandas as pd\n",
    "import tensorflow as tf\n",
    "from tensorflow import keras"
   ]
  },
  {
   "cell_type": "markdown",
   "id": "7c2a3e9e",
   "metadata": {},
   "source": [
    "## Loading Dataset"
   ]
  },
  {
   "cell_type": "code",
   "execution_count": 12,
   "id": "a22d8245",
   "metadata": {},
   "outputs": [],
   "source": [
    "train_dir = r'C:\\Users\\DELL\\Documents\\Machine Learning\\Deep Learning-T\\Mask\\Train'\n",
    "validation_dir = r'C:\\Users\\DELL\\Documents\\Machine Learning\\Deep Learning-T\\Mask\\Validation'\n",
    "test_dir = r'C:\\Users\\DELL\\Documents\\Machine Learning\\Deep Learning-T\\Mask\\Test'\n",
    "\n",
    "# Dataset consits of mask and without mask people images"
   ]
  },
  {
   "cell_type": "code",
   "execution_count": 22,
   "id": "11873b60",
   "metadata": {},
   "outputs": [
    {
     "name": "stdout",
     "output_type": "stream",
     "text": [
      "67\n"
     ]
    }
   ],
   "source": [
    "print(len(train_dir))"
   ]
  },
  {
   "cell_type": "markdown",
   "id": "bbccb9c3",
   "metadata": {},
   "source": [
    "## Data Augmentation"
   ]
  },
  {
   "cell_type": "code",
   "execution_count": 15,
   "id": "22ded4a3",
   "metadata": {},
   "outputs": [],
   "source": [
    "from tensorflow.keras.preprocessing.image import ImageDataGenerator"
   ]
  },
  {
   "cell_type": "code",
   "execution_count": 19,
   "id": "2c07367a",
   "metadata": {},
   "outputs": [],
   "source": [
    "train_datagen = ImageDataGenerator(\n",
    "    rescale=1./255,\n",
    "    rotation_range=40,\n",
    "    shear_range=0.3,\n",
    "    zoom_range=0.3\n",
    ")\n",
    "\n",
    "test_datagen = ImageDataGenerator(\n",
    "    rescale=1./255\n",
    ")"
   ]
  },
  {
   "cell_type": "code",
   "execution_count": 20,
   "id": "ab2cb22b",
   "metadata": {},
   "outputs": [
    {
     "name": "stdout",
     "output_type": "stream",
     "text": [
      "Found 10000 images belonging to 2 classes.\n",
      "Found 800 images belonging to 2 classes.\n"
     ]
    }
   ],
   "source": [
    "train_data = train_datagen.flow_from_directory(\n",
    "    train_dir,\n",
    "    target_size=(128,128),\n",
    "    class_mode='binary',\n",
    "    batch_size=20\n",
    ")\n",
    "\n",
    "validation_data = test_datagen.flow_from_directory(\n",
    "    validation_dir,\n",
    "    target_size=(128,128),\n",
    "    class_mode='binary',\n",
    "    batch_size=20\n",
    ")"
   ]
  },
  {
   "cell_type": "markdown",
   "id": "0145401f",
   "metadata": {},
   "source": [
    "## VGG19"
   ]
  },
  {
   "cell_type": "code",
   "execution_count": 26,
   "id": "a55ca15c",
   "metadata": {},
   "outputs": [],
   "source": [
    "from tensorflow.keras.applications import VGG19"
   ]
  },
  {
   "cell_type": "code",
   "execution_count": 28,
   "id": "349e6d2d",
   "metadata": {},
   "outputs": [],
   "source": [
    "## Using preprocessed Architecture\n",
    "conv_base = VGG19(\n",
    "    include_top=False,\n",
    "    weights='imagenet',\n",
    "    input_shape=(128,128,3),\n",
    ")"
   ]
  },
  {
   "cell_type": "code",
   "execution_count": 30,
   "id": "c573c3f1",
   "metadata": {},
   "outputs": [],
   "source": [
    "## Form fully connected network\n",
    "from tensorflow.keras import models,layers"
   ]
  },
  {
   "cell_type": "code",
   "execution_count": 31,
   "id": "1bdcb256",
   "metadata": {},
   "outputs": [],
   "source": [
    "model = models.Sequential()\n",
    "\n",
    "model.add(conv_base)\n",
    "\n",
    "model.add(layers.Flatten())\n",
    "model.add(layers.Dense(255,activation='relu'))\n",
    "model.add(layers.Dense(128,activation='relu'))\n",
    "model.add(layers.Dense(1,activation='sigmoid'))"
   ]
  },
  {
   "cell_type": "code",
   "execution_count": 32,
   "id": "490be02a",
   "metadata": {},
   "outputs": [
    {
     "name": "stdout",
     "output_type": "stream",
     "text": [
      "Model: \"sequential\"\n",
      "_________________________________________________________________\n",
      " Layer (type)                Output Shape              Param #   \n",
      "=================================================================\n",
      " vgg19 (Functional)          (None, 4, 4, 512)         20024384  \n",
      "                                                                 \n",
      " flatten (Flatten)           (None, 8192)              0         \n",
      "                                                                 \n",
      " dense (Dense)               (None, 255)               2089215   \n",
      "                                                                 \n",
      " dense_1 (Dense)             (None, 128)               32768     \n",
      "                                                                 \n",
      " dense_2 (Dense)             (None, 1)                 129       \n",
      "                                                                 \n",
      "=================================================================\n",
      "Total params: 22,146,496\n",
      "Trainable params: 22,146,496\n",
      "Non-trainable params: 0\n",
      "_________________________________________________________________\n"
     ]
    }
   ],
   "source": [
    "model.summary()"
   ]
  },
  {
   "cell_type": "code",
   "execution_count": 33,
   "id": "1053c0cb",
   "metadata": {},
   "outputs": [],
   "source": [
    "model.compile(\n",
    "    optimizer=keras.optimizers.RMSprop(learning_rate=2e-5),\n",
    "    loss='binary_crossentropy',\n",
    "    metrics=['acc'],)"
   ]
  },
  {
   "cell_type": "code",
   "execution_count": 34,
   "id": "f4cfd419",
   "metadata": {},
   "outputs": [],
   "source": [
    "checkpoint = keras.callbacks.ModelCheckpoint('Best Model-{epoch:02d}.h5',\n",
    "                                            save_best_only=True)"
   ]
  },
  {
   "cell_type": "code",
   "execution_count": 38,
   "id": "15a46be6",
   "metadata": {},
   "outputs": [
    {
     "name": "stdout",
     "output_type": "stream",
     "text": [
      "Epoch 1/3\n",
      "50/50 [==============================] - 228s 5s/step - loss: 0.0416 - acc: 0.9890 - val_loss: 0.0155 - val_acc: 0.9950\n",
      "Epoch 2/3\n",
      "50/50 [==============================] - 230s 5s/step - loss: 0.0402 - acc: 0.9870 - val_loss: 0.0131 - val_acc: 0.9962\n",
      "Epoch 3/3\n",
      "50/50 [==============================] - 227s 5s/step - loss: 0.0276 - acc: 0.9890 - val_loss: 0.0403 - val_acc: 0.9825\n"
     ]
    }
   ],
   "source": [
    "trained = model.fit(\n",
    "    train_data,\n",
    "    steps_per_epoch=50,\n",
    "    epochs=3,\n",
    "    validation_data = validation_data,\n",
    "    validation_steps=40,\n",
    "    callbacks=[checkpoint]\n",
    ")"
   ]
  },
  {
   "cell_type": "code",
   "execution_count": 41,
   "id": "d1e00ad0",
   "metadata": {},
   "outputs": [],
   "source": [
    "import matplotlib.pyplot as plt\n",
    "import numpy as np"
   ]
  },
  {
   "cell_type": "code",
   "execution_count": 44,
   "id": "5b062fd3",
   "metadata": {},
   "outputs": [
    {
     "data": {
      "image/png": "[encoded data removed]",
      "text/plain": [
       "<Figure size 800x500 with 1 Axes>"
      ]
     },
     "metadata": {},
     "output_type": "display_data"
    }
   ],
   "source": [
    "pd.DataFrame(trained.history).plot(figsize=(8,5))\n",
    "plt.grid(True)\n",
    "plt.gca().set_ylim(0,1)\n",
    "plt.show()"
   ]
  },
  {
   "cell_type": "code",
   "execution_count": 46,
   "id": "1c65b244",
   "metadata": {},
   "outputs": [],
   "source": [
    "model1 = keras.models.load_model('Best Model-01.h5')"
   ]
  },
  {
   "cell_type": "code",
   "execution_count": 47,
   "id": "3f8190a8",
   "metadata": {},
   "outputs": [
    {
     "name": "stdout",
     "output_type": "stream",
     "text": [
      "Found 984 images belonging to 2 classes.\n"
     ]
    }
   ],
   "source": [
    "test_data = test_datagen.flow_from_directory(\n",
    "    test_dir,\n",
    "    target_size = (128,128),\n",
    "    batch_size=31,\n",
    "    class_mode = 'binary'\n",
    ")"
   ]
  },
  {
   "cell_type": "code",
   "execution_count": 48,
   "id": "b560573b",
   "metadata": {},
   "outputs": [
    {
     "name": "stdout",
     "output_type": "stream",
     "text": [
      "32/32 [==============================] - 34s 1s/step - loss: 0.0166 - acc: 0.9949\n"
     ]
    },
    {
     "data": {
      "text/plain": [
       "[0.016590172424912453, 0.994918704032898]"
      ]
     },
     "execution_count": 48,
     "metadata": {},
     "output_type": "execute_result"
    }
   ],
   "source": [
    "model1.evaluate(test_data) # Evaluate Model"
   ]
  }
 ],
 "metadata": {
  "kernelspec": {
   "display_name": "Python 3 (ipykernel)",
   "language": "python",
   "name": "python3"
  },
  "language_info": {
   "codemirror_mode": {
    "name": "ipython",
    "version": 3
   },
   "file_extension": ".py",
   "mimetype": "text/x-python",
   "name": "python",
   "nbconvert_exporter": "python",
   "pygments_lexer": "ipython3",
   "version": "3.10.9"
  }
 },
 "nbformat": 4,
 "nbformat_minor": 5
}
